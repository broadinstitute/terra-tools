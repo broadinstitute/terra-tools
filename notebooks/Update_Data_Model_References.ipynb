{
 "cells": [
  {
   "cell_type": "markdown",
   "metadata": {},
   "source": [
    "# Update Data Model References\n",
    "This notebook will search for all data paths in this workspace that match a string (the path to be replaced) that you provide. It will replace those paths with the updated path that you provide. \n",
    "\n",
    "To run this notebook, first click the `Create notebook runtime` button in the top right of this page. \n",
    "\n",
    "Once your runtime is started, open this notebook in Playground Mode, then **edit the first cell below** with the path to be replaced (as the variable `replace_this`) and the new path (as `with_this`). Then run all the cells. \n",
    "\n",
    "Be sure to inspect the output of the last cell to understand what paths have been updated, and inspect your Data tab to confirm the updated paths."
   ]
  },
  {
   "cell_type": "code",
   "execution_count": null,
   "metadata": {},
   "outputs": [],
   "source": [
    "# EDIT THIS CELL\n",
    "\n",
    "# paths to replace\n",
    "replace_this = 'gs://source/path/' # e.g. 'gs://fc-b8cc752e-77bf-481b-ba6a-315d2a0c0b78/'\n",
    "with_this = 'gs://replacement/path/' # e.g. 'gs://example-new-bucket/'\n",
    "\n",
    "# set either of these to False if you do not want to update your data tables or workspace references\n",
    "update_data_tables = True\n",
    "update_workspace_references = True "
   ]
  },
  {
   "cell_type": "code",
   "execution_count": null,
   "metadata": {
    "scrolled": false
   },
   "outputs": [],
   "source": [
    "! git clone git://github.com/broadinstitute/horsefish.git\n",
    "! mv horsefish/scripts/update_workspace_dd.py . \n",
    "! echo 'y' | rm -R horsefish\n",
    "\n",
    "import os\n",
    "from update_workspace_dd import update_entities, update_attributes\n",
    "\n",
    "workspace_name = os.getenv('WORKSPACE_NAME')\n",
    "workspace_project = os.getenv('WORKSPACE_NAMESPACE')"
   ]
  },
  {
   "cell_type": "markdown",
   "metadata": {},
   "source": [
    "The following cell updates all the Tables in your Data tab"
   ]
  },
  {
   "cell_type": "code",
   "execution_count": null,
   "metadata": {
    "scrolled": true
   },
   "outputs": [],
   "source": [
    "if update_data_tables:\n",
    "    update_entities(workspace_name, workspace_project, replace_this, with_this)"
   ]
  },
  {
   "cell_type": "markdown",
   "metadata": {},
   "source": [
    "The following cell updates the Workspace Data in your Data tab"
   ]
  },
  {
   "cell_type": "code",
   "execution_count": null,
   "metadata": {
    "scrolled": true
   },
   "outputs": [],
   "source": [
    "if update_workspace_references:\n",
    "    update_attributes(workspace_name, workspace_project, replace_this, with_this)"
   ]
  }
 ],
 "metadata": {
  "kernelspec": {
   "display_name": "Python 3",
   "language": "python",
   "name": "python3"
  },
  "language_info": {
   "codemirror_mode": {
    "name": "ipython",
    "version": 3
   },
   "file_extension": ".py",
   "mimetype": "text/x-python",
   "name": "python",
   "nbconvert_exporter": "python",
   "pygments_lexer": "ipython3",
   "version": "3.7.6"
  },
  "toc": {
   "base_numbering": 1,
   "nav_menu": {},
   "number_sections": true,
   "sideBar": true,
   "skip_h1_title": false,
   "title_cell": "Table of Contents",
   "title_sidebar": "Contents",
   "toc_cell": false,
   "toc_position": {},
   "toc_section_display": true,
   "toc_window_display": false
  }
 },
 "nbformat": 4,
 "nbformat_minor": 2
}
