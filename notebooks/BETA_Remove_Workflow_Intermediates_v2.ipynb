{
 "cells": [
  {
   "cell_type": "markdown",
   "metadata": {},
   "source": [
    "# WARNING: This notebook has not been thoroughly tested.\n",
    "Please proceed with caution."
   ]
  },
  {
   "cell_type": "code",
   "execution_count": null,
   "metadata": {},
   "outputs": [],
   "source": [
    "# one-time setup\n",
    "branch = \"master\" # if not developing, set this to \"master\"\n",
    "! git clone -b $branch git://github.com/epiercehoffman/horsefish.git\n",
    "! mv horsefish/scripts/mop_workspace/mop_workspace.py . \n",
    "! rm -Rf horsefish\n",
    "! pip install toolz\n",
    "\n",
    "#restart kernel to use toolz package"
   ]
  },
  {
   "cell_type": "code",
   "execution_count": null,
   "metadata": {},
   "outputs": [],
   "source": [
    "import os\n",
    "from mop_workspace import mop, mop_files_from_list\n",
    "\n",
    "workspace_name = os.getenv('WORKSPACE_NAME')\n",
    "workspace_project = os.getenv('WORKSPACE_NAMESPACE')"
   ]
  },
  {
   "cell_type": "markdown",
   "metadata": {},
   "source": [
    "## Option 1: Run the cleanup directly, without inspecting files first"
   ]
  },
  {
   "cell_type": "code",
   "execution_count": null,
   "metadata": {},
   "outputs": [],
   "source": [
    "# if you want to go for it - this will do the deletion for you.\n",
    "files_to_mop_path = mop(project=workspace_project, workspace=workspace_name, include=None, exclude=None, dry_run=False, save_dir=\"mop_files\", yes=True, verbose=True, weeks_old=2)"
   ]
  },
  {
   "cell_type": "code",
   "execution_count": null,
   "metadata": {},
   "outputs": [],
   "source": [
    "# inspect deleted files\n",
    "if files_to_mop_path:\n",
    "    ! head $files_to_mop_path\n",
    "else:\n",
    "    print(\"No files to mop!\")"
   ]
  },
  {
   "cell_type": "markdown",
   "metadata": {},
   "source": [
    "## Option 2: Run a dry run to inspect the files to be deleted before running the deletion"
   ]
  },
  {
   "cell_type": "code",
   "execution_count": null,
   "metadata": {},
   "outputs": [],
   "source": [
    "# OR dry run - generate list of files to delete\n",
    "files_to_mop_path = mop(project=workspace_project, workspace=workspace_name, include=None, exclude=None, dry_run=True, save_dir=\"mop_files\", yes=True, verbose=True)"
   ]
  },
  {
   "cell_type": "code",
   "execution_count": null,
   "metadata": {},
   "outputs": [],
   "source": [
    "# inspect files to be deleted\n",
    "if files_to_mop_path:\n",
    "    ! head $files_to_mop_path\n",
    "else:\n",
    "    print(\"No files to mop!\")"
   ]
  },
  {
   "cell_type": "code",
   "execution_count": null,
   "metadata": {},
   "outputs": [],
   "source": [
    "# do the actual delete\n",
    "mop_files_from_list(workspace_project, workspace_name, files_to_mop_path, dry_run=False, yes=True, verbose=True)"
   ]
  },
  {
   "cell_type": "code",
   "execution_count": null,
   "metadata": {},
   "outputs": [],
   "source": []
  },
  {
   "cell_type": "code",
   "execution_count": null,
   "metadata": {},
   "outputs": [],
   "source": []
  }
 ],
 "metadata": {
  "kernelspec": {
   "display_name": "Python 3",
   "language": "python",
   "name": "python3"
  },
  "language_info": {
   "codemirror_mode": {
    "name": "ipython",
    "version": 3
   },
   "file_extension": ".py",
   "mimetype": "text/x-python",
   "name": "python",
   "nbconvert_exporter": "python",
   "pygments_lexer": "ipython3",
   "version": "3.7.10"
  },
  "toc": {
   "base_numbering": 1,
   "nav_menu": {},
   "number_sections": true,
   "sideBar": true,
   "skip_h1_title": false,
   "title_cell": "Table of Contents",
   "title_sidebar": "Contents",
   "toc_cell": false,
   "toc_position": {},
   "toc_section_display": true,
   "toc_window_display": false
  }
 },
 "nbformat": 4,
 "nbformat_minor": 2
}
