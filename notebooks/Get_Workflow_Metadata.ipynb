{
 "cells": [
  {
   "cell_type": "markdown",
   "metadata": {},
   "source": [
    "# Get Workflow Data\n",
    "\n",
    "This notebook uses the Firecloud API to:\n",
    "1. List all the submissions of the current workspace.\n",
    "2. List all the workflows of a selected submission.\n",
    "3. For each workflow, parse out the cost, duration, and other metadata.\n",
    "\n",
    "You may run step 1 of this notebook as-is. No modifications are necessary. Step 2 requires you to fill in the BigQuery IDs.\n",
    "\n",
    "After running step 1 of this notebook, you will be prompted to select a `submissionId`. **Please copy and paste one from the displayed table, or type in \"all\" (without quotes) to pull all submissions**.\n",
    "\n",
    "If your submission has several workflows, the **notebook may take several minutes to run**. This is because we must make one API call per workflow. For example, if your submission has 427 workflows, the notebook will make 427 sequential API calls which may take 4-6 minutes. "
   ]
  },
  {
   "cell_type": "code",
   "execution_count": null,
   "metadata": {},
   "outputs": [],
   "source": [
    "fapi.__version__"
   ]
  },
  {
   "cell_type": "code",
   "execution_count": null,
   "metadata": {},
   "outputs": [],
   "source": [
    "import firecloud.api as fapi"
   ]
  },
  {
   "cell_type": "code",
   "execution_count": null,
   "metadata": {},
   "outputs": [],
   "source": [
    "import firecloud.api as fapi\n",
    "import os\n",
    "import pandas as pd\n",
    "from datetime import datetime\n",
    "from ipywidgets import IntProgress\n",
    "from IPython.display import display\n",
    "import pandas_gbq\n",
    "\n",
    "# Adjust these settings as needed for the dataframe displays\n",
    "pd.set_option('display.max_rows', 500)\n",
    "pd.set_option('display.max_colwidth', 300)"
   ]
  },
  {
   "cell_type": "markdown",
   "metadata": {},
   "source": [
    "## Step 1: Load submission data"
   ]
  },
  {
   "cell_type": "code",
   "execution_count": null,
   "metadata": {},
   "outputs": [],
   "source": [
    "namespace = os.environ['WORKSPACE_NAMESPACE']\n",
    "workspace = os.environ['WORKSPACE_NAME']\n",
    "print(f'Current workspace is {namespace}/{workspace}')"
   ]
  },
  {
   "cell_type": "code",
   "execution_count": null,
   "metadata": {},
   "outputs": [],
   "source": [
    "r = fapi.list_submissions(namespace, workspace)\n",
    "df = ''\n",
    "all_submission_ids = []\n",
    "if r.status_code == 200:\n",
    "    data = []\n",
    "    headers = ['submissionId', 'userComment', 'submissionDate', 'numComplete', 'numFailed']\n",
    "    for submission in r.json():\n",
    "        submissionId = submission['submissionId']\n",
    "        userComment = submission['userComment']\n",
    "        submissionDate = submission['submissionDate']\n",
    "        workflowStatuses = submission['workflowStatuses']\n",
    "        numComplete = workflowStatuses.get('Succeeded') or 0\n",
    "        numFailed = workflowStatuses.get('Failed') or 0\n",
    "        data.append([submissionId, userComment, submissionDate, numComplete, numFailed])\n",
    "        all_submission_ids.append(submissionId)\n",
    "    data.sort(key=lambda x: x[2], reverse=True) # Sort by submissionDate\n",
    "    df = pd.DataFrame(data=data, columns=headers)\n",
    "else:\n",
    "    print(f'Error listing submissions for {namespace}/{workspace} with error {r.text}')\n",
    "df"
   ]
  },
  {
   "cell_type": "code",
   "execution_count": null,
   "metadata": {},
   "outputs": [],
   "source": [
    "submission_id = input('Please enter a submissionId from the list above, or \"all\" to grab all: ')\n",
    "submission_id = submission_id.strip()"
   ]
  },
  {
   "cell_type": "code",
   "execution_count": null,
   "metadata": {},
   "outputs": [],
   "source": [
    "# Helper functions\n",
    "\n",
    "def get_workflow_metadata(submission_id, workflow_id):\n",
    "    r = fapi.get_workflow_metadata(namespace, workspace, submission_id, workflow_id)\n",
    "    if r.status_code == 200:\n",
    "        return r.json()\n",
    "    else:\n",
    "        print(f'Error retrieving workflow id {workflow_id} with error {r.text}')\n",
    "        \n",
    "def get_workflow_entity_name(workflow):\n",
    "    try:\n",
    "        return workflow['workflowEntity']['entityName']\n",
    "    except KeyError:\n",
    "        return 'N/A'"
   ]
  },
  {
   "cell_type": "code",
   "execution_count": null,
   "metadata": {},
   "outputs": [],
   "source": [
    "def load_one_submission(submission_id):\n",
    "    r = fapi.get_submission(namespace, workspace, submission_id)\n",
    "    TIME_FORMAT_STRING = '%Y-%m-%dT%H:%M:%S.%fZ'\n",
    "    df = ''\n",
    "    if r.status_code == 200:\n",
    "        data = []\n",
    "        headers = ['submissionId','workflowId','entityName', 'status', 'cost', 'duration', 'submitter']\n",
    "        workflows = r.json()['workflows']\n",
    "        submitter = r.json()['submitter']\n",
    "        print(f'Loading workflows for submission {submission_id}:')\n",
    "        progress_bar = IntProgress(min=0, max=len(workflows), description='Loading: ', style=dict(description_width='initial'))\n",
    "        display(progress_bar)\n",
    "        for workflow in workflows:\n",
    "            cost = workflow.get('cost') or 0.0\n",
    "            status = workflow['status']\n",
    "            workflow_id = workflow['workflowId']\n",
    "            entity_name = get_workflow_entity_name(workflow)\n",
    "            wf_metadata = get_workflow_metadata(submission_id, workflow_id)\n",
    "            start = datetime.strptime(wf_metadata['start'], TIME_FORMAT_STRING)\n",
    "            end = datetime.strptime(wf_metadata['end'], TIME_FORMAT_STRING)\n",
    "            duration = str(end-start)\n",
    "            data.append([submission_id, workflow_id, entity_name, status, cost, duration, submitter])\n",
    "            progress_bar.value += 1\n",
    "        return pd.DataFrame(data=data, columns=headers)\n",
    "    else:\n",
    "        print(f'Error retrieving submission id {submission_id} with error {r.text}')\n",
    "        \n",
    "def load_all_submissions():\n",
    "    dfs = []\n",
    "    for submission_id in all_submission_ids:\n",
    "        dfs.append(load_one_submission(submission_id))\n",
    "    return pd.concat(dfs)\n",
    "    "
   ]
  },
  {
   "cell_type": "code",
   "execution_count": null,
   "metadata": {},
   "outputs": [],
   "source": [
    "if submission_id == 'all':\n",
    "    submission_df = load_all_submissions()\n",
    "else:\n",
    "    submission_df = load_one_submission(submission_id)\n",
    "submission_df"
   ]
  },
  {
   "cell_type": "markdown",
   "metadata": {},
   "source": [
    "## Step 2: Push to BigQuery"
   ]
  },
  {
   "cell_type": "markdown",
   "metadata": {},
   "source": [
    "Set `table_id` to the full destination table ID (including the project ID and dataset ID).\n",
    "\n",
    "Ex. `table_id = 'my_project.my_dataset.my_table'`"
   ]
  },
  {
   "cell_type": "code",
   "execution_count": null,
   "metadata": {},
   "outputs": [],
   "source": [
    "# TODO: Set table_id to the full destination table ID (including the\n",
    "#       project ID and dataset ID).\n",
    "table_id = 'aaa-willyn-test.1234_willyn.submissions'"
   ]
  },
  {
   "cell_type": "code",
   "execution_count": null,
   "metadata": {},
   "outputs": [],
   "source": [
    "submission_df.to_gbq(table_id, project_id=namespace, if_exists='replace')"
   ]
  },
  {
   "cell_type": "code",
   "execution_count": null,
   "metadata": {},
   "outputs": [],
   "source": []
  }
 ],
 "metadata": {
  "kernelspec": {
   "display_name": "Python 3",
   "language": "python",
   "name": "python3"
  },
  "language_info": {
   "codemirror_mode": {
    "name": "ipython",
    "version": 3
   },
   "file_extension": ".py",
   "mimetype": "text/x-python",
   "name": "python",
   "nbconvert_exporter": "python",
   "pygments_lexer": "ipython3",
   "version": "3.7.12"
  },
  "toc": {
   "base_numbering": 1,
   "nav_menu": {},
   "number_sections": true,
   "sideBar": true,
   "skip_h1_title": false,
   "title_cell": "Table of Contents",
   "title_sidebar": "Contents",
   "toc_cell": false,
   "toc_position": {},
   "toc_section_display": true,
   "toc_window_display": false
  }
 },
 "nbformat": 4,
 "nbformat_minor": 2
}
