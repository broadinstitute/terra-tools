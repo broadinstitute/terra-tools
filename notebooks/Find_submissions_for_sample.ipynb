{
 "cells": [
  {
   "cell_type": "code",
   "execution_count": null,
   "metadata": {},
   "outputs": [],
   "source": [
    "# fill in the id, e.g. sample_id that you're looking for here\n",
    "entity_id = \"FILL_IN_SAMPLE_ID_HERE\""
   ]
  },
  {
   "cell_type": "code",
   "execution_count": null,
   "metadata": {},
   "outputs": [],
   "source": [
    "\"\"\"if the import block gives you an error about tqdm, \n",
    "uncomment the following line and run this once, \n",
    "then re-run the import block\"\"\"\n",
    "\n",
    "# !pip install tqdm"
   ]
  },
  {
   "cell_type": "code",
   "execution_count": null,
   "metadata": {},
   "outputs": [],
   "source": [
    "import os\n",
    "import json\n",
    "from firecloud import api as fapi\n",
    "from pprint import pprint\n",
    "from tqdm import tqdm"
   ]
  },
  {
   "cell_type": "code",
   "execution_count": null,
   "metadata": {},
   "outputs": [],
   "source": [
    "ws_project = os.environ['WORKSPACE_NAMESPACE']\n",
    "ws_name = os.environ['WORKSPACE_NAME']\n",
    "ws_bucket = os.environ['WORKSPACE_BUCKET']"
   ]
  },
  {
   "cell_type": "code",
   "execution_count": null,
   "metadata": {},
   "outputs": [],
   "source": [
    "# get all submissions\n",
    "submissions = fapi.list_submissions(ws_project, ws_name).json()"
   ]
  },
  {
   "cell_type": "code",
   "execution_count": null,
   "metadata": {},
   "outputs": [],
   "source": [
    "workflow_and_submission_ids = []\n",
    "\n",
    "print(f\"searching through all submissions for workflows run on {entity_id}\")\n",
    "for submission in tqdm(submissions):\n",
    "    submission_id = submission['submissionId']\n",
    "    workflows_json = fapi.get_submission(ws_project, ws_name, submission_id).json()\n",
    "    for workflow in workflows_json['workflows']:\n",
    "        if 'workflowEntity' in workflow and workflow['workflowEntity']['entityName'] == entity_id:\n",
    "            method_info = submission['methodConfigurationNamespace'] + '/' + submission['methodConfigurationName']\n",
    "            workflow_info = {\"method_info\": method_info,\n",
    "                             \"submission_id\": submission_id,\n",
    "                             \"workflow_id\": workflow['workflowId'] if 'workflowId' in workflow else None}\n",
    "            workflow_and_submission_ids.append(workflow_info)"
   ]
  },
  {
   "cell_type": "code",
   "execution_count": null,
   "metadata": {},
   "outputs": [],
   "source": [
    "print(f\"{len(workflow_and_submission_ids)} submissions found:\")\n",
    "for workflow_info in workflow_and_submission_ids:\n",
    "    print(workflow_info)"
   ]
  }
 ],
 "metadata": {
  "kernelspec": {
   "display_name": "Python 3",
   "language": "python",
   "name": "python3"
  },
  "language_info": {
   "codemirror_mode": {
    "name": "ipython",
    "version": 3
   },
   "file_extension": ".py",
   "mimetype": "text/x-python",
   "name": "python",
   "nbconvert_exporter": "python",
   "pygments_lexer": "ipython3",
   "version": "3.7.10"
  },
  "toc": {
   "base_numbering": 1,
   "nav_menu": {},
   "number_sections": true,
   "sideBar": true,
   "skip_h1_title": false,
   "title_cell": "Table of Contents",
   "title_sidebar": "Contents",
   "toc_cell": false,
   "toc_position": {},
   "toc_section_display": true,
   "toc_window_display": false
  }
 },
 "nbformat": 4,
 "nbformat_minor": 2
}
